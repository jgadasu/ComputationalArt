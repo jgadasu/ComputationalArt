{
 "cells": [
  {
   "cell_type": "markdown",
   "metadata": {},
   "source": [
    "# Reflection-Computational Art Mini Project\n",
    "\n",
    "Carefully making sure all functions worked well and then worked when making calls to other functions was the main task in the Mini Project. It was an opportunity to see the need for unit testing and progressive program development. There was pure joy in seeing the program work and creating the computationally generated image. The problem was pre-designed and definitely helped give a framework within which the work was done. The project was appropriately scoped.\n",
    "\n",
    "I learnt how to use Anaconda Python IDLE in the Windows environment and it proved considerably easier to use for unit testing. I designed and tested out both the build_random_functions and evaluate_functions in the Windows environment. Initially, evaluate_function was returning one of three values regardless of the input functions or variables. I did some progressive debugging and used some print statements to accurately pinpoint the areas of flaw. Again the Anaconda Python IDLE seemed quicker at running, and preliminary printing, than the Atom IDE.\n",
    "\n",
    "I had a great plan for unit testing which proved useful throughout the Computational Art Mini-Project.\n",
    "\n",
    "Going forward, I will do some research on some powerful functions that can be capable of producing reproducible images that are in use in today’s world. I will also learn some computational equalization techniques for image editing to be able to use programs to alter the RGB values of the channels of images base according to a certain non-random specification.\n",
    "\n",
    "I wish I had understood what exactly we were supposed to do for the Computational Art assignment. In both this Mini-Project and the GeneFinder Mini-Project, I just needed to have understood a threshold concept to be able to quickly work on them. I would recommend that after the assignment of each Mini-Project, the Softdes team institute a half-hour Mini-Project briefing where they explain the concepts that will be useful to understand in handling the very challenging projects. I feel that they have more recently engaged in those projects and may be very suited to explain the mini-projects after the Professors have given a broad overview on what to do for the project.\n",
    "\n",
    "For the Computational Mini-Project, I wish I had known what was meant by ‘Students have to use recursion’ and had some introduction to building trees or something of that sort. I can admit that just after the concept of trees was explained to me, I was able to complete the Project, especially since I am new to Software Design and Python Programming.\n",
    "\n",
    "The Computational Art Mini-Project was definitely useful and has allowed me to understand on a basic level how computers render images and how we can alter the various color channels using some sort of equation or guide to create stunning images. This information has definitely transformed the way I think of images and even sound."
   ]
  },
  {
   "cell_type": "code",
   "execution_count": null,
   "metadata": {
    "collapsed": true
   },
   "outputs": [],
   "source": []
  }
 ],
 "metadata": {
  "kernelspec": {
   "display_name": "Python 3",
   "language": "python",
   "name": "python3"
  },
  "language_info": {
   "codemirror_mode": {
    "name": "ipython",
    "version": 3
   },
   "file_extension": ".py",
   "mimetype": "text/x-python",
   "name": "python",
   "nbconvert_exporter": "python",
   "pygments_lexer": "ipython3",
   "version": "3.6.3"
  }
 },
 "nbformat": 4,
 "nbformat_minor": 2
}
